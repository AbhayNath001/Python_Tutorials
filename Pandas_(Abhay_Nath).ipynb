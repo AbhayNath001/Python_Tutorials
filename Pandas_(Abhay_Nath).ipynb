{
  "nbformat": 4,
  "nbformat_minor": 0,
  "metadata": {
    "colab": {
      "provenance": [],
      "authorship_tag": "ABX9TyP5d654owTyl25xxQ5pGGNH",
      "include_colab_link": true
    },
    "kernelspec": {
      "name": "python3",
      "display_name": "Python 3"
    },
    "language_info": {
      "name": "python"
    }
  },
  "cells": [
    {
      "cell_type": "markdown",
      "metadata": {
        "id": "view-in-github",
        "colab_type": "text"
      },
      "source": [
        "<a href=\"https://colab.research.google.com/github/AbhayNath001/Python_Tutorials/blob/Pandas/Pandas_(Abhay_Nath).ipynb\" target=\"_parent\"><img src=\"https://colab.research.google.com/assets/colab-badge.svg\" alt=\"Open In Colab\"/></a>"
      ]
    },
    {
      "cell_type": "markdown",
      "source": [
        "# **read_csv**"
      ],
      "metadata": {
        "id": "cM5UaVXMfRem"
      }
    },
    {
      "cell_type": "code",
      "source": [
        "import pandas as pd\n",
        "\n",
        "file = pd.read_csv(\"IRIS.csv\")     # read a csv file\n",
        "print(file)                        # print the dataset"
      ],
      "metadata": {
        "colab": {
          "base_uri": "https://localhost:8080/"
        },
        "id": "2DkxNpbqcqyv",
        "outputId": "29e97fab-a9c6-422a-8eb1-c49c07332ace"
      },
      "execution_count": 5,
      "outputs": [
        {
          "output_type": "stream",
          "name": "stdout",
          "text": [
            "     sepal_length  sepal_width  petal_length  petal_width         species\n",
            "0             5.1          3.5           1.4          0.2     Iris-setosa\n",
            "1             4.9          3.0           1.4          0.2     Iris-setosa\n",
            "2             4.7          3.2           1.3          0.2     Iris-setosa\n",
            "3             4.6          3.1           1.5          0.2     Iris-setosa\n",
            "4             5.0          3.6           1.4          0.2     Iris-setosa\n",
            "..            ...          ...           ...          ...             ...\n",
            "145           6.7          3.0           5.2          2.3  Iris-virginica\n",
            "146           6.3          2.5           5.0          1.9  Iris-virginica\n",
            "147           6.5          3.0           5.2          2.0  Iris-virginica\n",
            "148           6.2          3.4           5.4          2.3  Iris-virginica\n",
            "149           5.9          3.0           5.1          1.8  Iris-virginica\n",
            "\n",
            "[150 rows x 5 columns]\n"
          ]
        }
      ]
    },
    {
      "cell_type": "markdown",
      "source": [
        "# **.index**"
      ],
      "metadata": {
        "id": "Mrl3BL1qft1A"
      }
    },
    {
      "cell_type": "code",
      "source": [
        "import pandas as pd\n",
        "\n",
        "file = pd.read_csv(\"IRIS.csv\")     # read a csv file\n",
        "print(file.index)                  # strting index start from 0 and ending index is n+1"
      ],
      "metadata": {
        "colab": {
          "base_uri": "https://localhost:8080/"
        },
        "id": "A4vHT4KVdPsV",
        "outputId": "23c984da-fb2a-4799-c3a6-68b8ccb32527"
      },
      "execution_count": 7,
      "outputs": [
        {
          "output_type": "stream",
          "name": "stdout",
          "text": [
            "RangeIndex(start=0, stop=150, step=1)\n"
          ]
        }
      ]
    },
    {
      "cell_type": "markdown",
      "source": [
        "# **.columns**"
      ],
      "metadata": {
        "id": "VD0r-jZQf5FA"
      }
    },
    {
      "cell_type": "code",
      "source": [
        "import pandas as pd\n",
        "\n",
        "file = pd.read_csv(\"IRIS.csv\")     # read a csv file\n",
        "print(file.columns)                # print the columns name"
      ],
      "metadata": {
        "colab": {
          "base_uri": "https://localhost:8080/"
        },
        "id": "qpOiJXuKed73",
        "outputId": "6541bb50-43c3-461b-e7be-eeb66bfbcbd0"
      },
      "execution_count": 9,
      "outputs": [
        {
          "output_type": "stream",
          "name": "stdout",
          "text": [
            "Index(['sepal_length', 'sepal_width', 'petal_length', 'petal_width',\n",
            "       'species'],\n",
            "      dtype='object')\n"
          ]
        }
      ]
    },
    {
      "cell_type": "markdown",
      "source": [
        "# **.describe()**"
      ],
      "metadata": {
        "id": "1ZgHVc-pgJMp"
      }
    },
    {
      "cell_type": "code",
      "source": [
        "import pandas as pd\n",
        "\n",
        "file = pd.read_csv(\"IRIS.csv\")     # read a csv file\n",
        "print(file.describe())             # give count value, mean value, standard value, minimum and maximum value, 25%, 50% and 75% value"
      ],
      "metadata": {
        "colab": {
          "base_uri": "https://localhost:8080/"
        },
        "id": "xpZz3TqVe-8X",
        "outputId": "c4f7521f-737a-4c46-95b6-c5f721357113"
      },
      "execution_count": 13,
      "outputs": [
        {
          "output_type": "stream",
          "name": "stdout",
          "text": [
            "       sepal_length  sepal_width  petal_length  petal_width\n",
            "count    150.000000   150.000000    150.000000   150.000000\n",
            "mean       5.843333     3.054000      3.758667     1.198667\n",
            "std        0.828066     0.433594      1.764420     0.763161\n",
            "min        4.300000     2.000000      1.000000     0.100000\n",
            "25%        5.100000     2.800000      1.600000     0.300000\n",
            "50%        5.800000     3.000000      4.350000     1.300000\n",
            "75%        6.400000     3.300000      5.100000     1.800000\n",
            "max        7.900000     4.400000      6.900000     2.500000\n"
          ]
        }
      ]
    },
    {
      "cell_type": "markdown",
      "source": [
        "# **.head()**"
      ],
      "metadata": {
        "id": "gxGz9Ii_hGiD"
      }
    },
    {
      "cell_type": "code",
      "source": [
        "import pandas as pd\n",
        "\n",
        "file = pd.read_csv(\"IRIS.csv\")     # read a csv file\n",
        "print(file.head())                 # give first 5 data"
      ],
      "metadata": {
        "colab": {
          "base_uri": "https://localhost:8080/"
        },
        "id": "m38NDHUbhNTY",
        "outputId": "c0c522a1-c7d8-4e2b-b2d4-4ac2ed3c8852"
      },
      "execution_count": 14,
      "outputs": [
        {
          "output_type": "stream",
          "name": "stdout",
          "text": [
            "   sepal_length  sepal_width  petal_length  petal_width      species\n",
            "0           5.1          3.5           1.4          0.2  Iris-setosa\n",
            "1           4.9          3.0           1.4          0.2  Iris-setosa\n",
            "2           4.7          3.2           1.3          0.2  Iris-setosa\n",
            "3           4.6          3.1           1.5          0.2  Iris-setosa\n",
            "4           5.0          3.6           1.4          0.2  Iris-setosa\n"
          ]
        }
      ]
    },
    {
      "cell_type": "markdown",
      "source": [
        "# **.head(value)**"
      ],
      "metadata": {
        "id": "LXlr2DsOhYXZ"
      }
    },
    {
      "cell_type": "code",
      "source": [
        "import pandas as pd\n",
        "\n",
        "file = pd.read_csv(\"IRIS.csv\")     # read a csv file\n",
        "print(file.head(8))                # give first n-1 data    here, 8-1 = 7 so, print the data between 0 to 7"
      ],
      "metadata": {
        "colab": {
          "base_uri": "https://localhost:8080/"
        },
        "id": "D_P0mTlXhgL7",
        "outputId": "5a4e818f-05f3-411e-edfe-e81187fa3bbf"
      },
      "execution_count": 16,
      "outputs": [
        {
          "output_type": "stream",
          "name": "stdout",
          "text": [
            "   sepal_length  sepal_width  petal_length  petal_width      species\n",
            "0           5.1          3.5           1.4          0.2  Iris-setosa\n",
            "1           4.9          3.0           1.4          0.2  Iris-setosa\n",
            "2           4.7          3.2           1.3          0.2  Iris-setosa\n",
            "3           4.6          3.1           1.5          0.2  Iris-setosa\n",
            "4           5.0          3.6           1.4          0.2  Iris-setosa\n",
            "5           5.4          3.9           1.7          0.4  Iris-setosa\n",
            "6           4.6          3.4           1.4          0.3  Iris-setosa\n",
            "7           5.0          3.4           1.5          0.2  Iris-setosa\n"
          ]
        }
      ]
    },
    {
      "cell_type": "markdown",
      "source": [
        "# **.tail()**"
      ],
      "metadata": {
        "id": "SuJtUcnph_cH"
      }
    },
    {
      "cell_type": "code",
      "source": [
        "import pandas as pd\n",
        "\n",
        "file = pd.read_csv(\"IRIS.csv\")     # read a csv file\n",
        "print(file.tail())                 # show last 5 data"
      ],
      "metadata": {
        "colab": {
          "base_uri": "https://localhost:8080/"
        },
        "id": "oUk8SkBmiDkF",
        "outputId": "23c11562-6d98-4369-8c7d-c3579d036939"
      },
      "execution_count": 17,
      "outputs": [
        {
          "output_type": "stream",
          "name": "stdout",
          "text": [
            "     sepal_length  sepal_width  petal_length  petal_width         species\n",
            "145           6.7          3.0           5.2          2.3  Iris-virginica\n",
            "146           6.3          2.5           5.0          1.9  Iris-virginica\n",
            "147           6.5          3.0           5.2          2.0  Iris-virginica\n",
            "148           6.2          3.4           5.4          2.3  Iris-virginica\n",
            "149           5.9          3.0           5.1          1.8  Iris-virginica\n"
          ]
        }
      ]
    },
    {
      "cell_type": "markdown",
      "source": [
        "# **.tail(value)**"
      ],
      "metadata": {
        "id": "OI_VXSYuiPM_"
      }
    },
    {
      "cell_type": "code",
      "source": [
        "import pandas as pd\n",
        "\n",
        "file = pd.read_csv(\"IRIS.csv\")     # read a csv file\n",
        "print(file.tail(3))                # show last n-1 data     here 3-1 = 2 so print last 3 data (index start from 0 so last index is 149)"
      ],
      "metadata": {
        "colab": {
          "base_uri": "https://localhost:8080/"
        },
        "id": "pI-XtcYPiS27",
        "outputId": "d0efb324-1db3-44f5-feeb-ad501c2dbded"
      },
      "execution_count": 19,
      "outputs": [
        {
          "output_type": "stream",
          "name": "stdout",
          "text": [
            "     sepal_length  sepal_width  petal_length  petal_width         species\n",
            "147           6.5          3.0           5.2          2.0  Iris-virginica\n",
            "148           6.2          3.4           5.4          2.3  Iris-virginica\n",
            "149           5.9          3.0           5.1          1.8  Iris-virginica\n"
          ]
        }
      ]
    },
    {
      "cell_type": "markdown",
      "source": [
        "# **[:n]**"
      ],
      "metadata": {
        "id": "oWpZLewzi9NO"
      }
    },
    {
      "cell_type": "code",
      "source": [
        "import pandas as pd\n",
        "\n",
        "file = pd.read_csv(\"IRIS.csv\")     # read a csv file\n",
        "print(file[:5])                    # show 0 to n-1 data     here, 5-1 = 4 so print the data between 0 to 4\n",
        "print(\"---------------------------------------------------------------------------\")\n",
        "print(file[2:8])                   # show 2 to 7 data       here, [x:y] where x = starting index and y = y-1 ending index"
      ],
      "metadata": {
        "colab": {
          "base_uri": "https://localhost:8080/"
        },
        "id": "7RJLNm_wjov9",
        "outputId": "4ca22822-3e34-4c05-c12f-c66ec3b3509c"
      },
      "execution_count": 23,
      "outputs": [
        {
          "output_type": "stream",
          "name": "stdout",
          "text": [
            "   sepal_length  sepal_width  petal_length  petal_width      species\n",
            "0           5.1          3.5           1.4          0.2  Iris-setosa\n",
            "1           4.9          3.0           1.4          0.2  Iris-setosa\n",
            "2           4.7          3.2           1.3          0.2  Iris-setosa\n",
            "3           4.6          3.1           1.5          0.2  Iris-setosa\n",
            "4           5.0          3.6           1.4          0.2  Iris-setosa\n",
            "---------------------------------------------------------------------------\n",
            "   sepal_length  sepal_width  petal_length  petal_width      species\n",
            "2           4.7          3.2           1.3          0.2  Iris-setosa\n",
            "3           4.6          3.1           1.5          0.2  Iris-setosa\n",
            "4           5.0          3.6           1.4          0.2  Iris-setosa\n",
            "5           5.4          3.9           1.7          0.4  Iris-setosa\n",
            "6           4.6          3.4           1.4          0.3  Iris-setosa\n",
            "7           5.0          3.4           1.5          0.2  Iris-setosa\n"
          ]
        }
      ]
    },
    {
      "cell_type": "markdown",
      "source": [
        "# **type(file_name)**"
      ],
      "metadata": {
        "id": "g1bBwQkyljTC"
      }
    },
    {
      "cell_type": "code",
      "source": [
        "import pandas as pd\n",
        "\n",
        "file = pd.read_csv(\"IRIS.csv\")     # read a csv file\n",
        "print(type(file))                  # show the type of the data of your file"
      ],
      "metadata": {
        "colab": {
          "base_uri": "https://localhost:8080/"
        },
        "id": "AKk360jqluj-",
        "outputId": "b443648f-f61f-4d5b-bd25-f51580da63c4"
      },
      "execution_count": 24,
      "outputs": [
        {
          "output_type": "stream",
          "name": "stdout",
          "text": [
            "<class 'pandas.core.frame.DataFrame'>\n"
          ]
        }
      ]
    },
    {
      "cell_type": "markdown",
      "source": [
        "# **.index.array**"
      ],
      "metadata": {
        "id": "gYWu1Y6Pl_Uo"
      }
    },
    {
      "cell_type": "code",
      "source": [
        "import pandas as pd\n",
        "\n",
        "file = pd.read_csv(\"IRIS.csv\")     # read a csv file\n",
        "print(file.index.array)            # get the index number of your file in array format"
      ],
      "metadata": {
        "colab": {
          "base_uri": "https://localhost:8080/"
        },
        "id": "N2PU7Y4qmIZj",
        "outputId": "653ee274-c3e3-4a65-a111-ef834c2824b5"
      },
      "execution_count": 27,
      "outputs": [
        {
          "output_type": "stream",
          "name": "stdout",
          "text": [
            "<PandasArray>\n",
            "[  0,   1,   2,   3,   4,   5,   6,   7,   8,   9,\n",
            " ...\n",
            " 140, 141, 142, 143, 144, 145, 146, 147, 148, 149]\n",
            "Length: 150, dtype: int64\n"
          ]
        }
      ]
    },
    {
      "cell_type": "markdown",
      "source": [
        "# **.columns.array**"
      ],
      "metadata": {
        "id": "6Y1T54OvmmVQ"
      }
    },
    {
      "cell_type": "code",
      "source": [
        "import pandas as pd\n",
        "\n",
        "file = pd.read_csv(\"IRIS.csv\")     # read a csv file\n",
        "print(file.columns.array)          # get the columns name of your file in array format"
      ],
      "metadata": {
        "colab": {
          "base_uri": "https://localhost:8080/"
        },
        "id": "3HG_5FHlmvC8",
        "outputId": "065526bb-cc27-4622-96d2-55c32d0d5aad"
      },
      "execution_count": 30,
      "outputs": [
        {
          "output_type": "stream",
          "name": "stdout",
          "text": [
            "<PandasArray>\n",
            "['sepal_length', 'sepal_width', 'petal_length', 'petal_width', 'species']\n",
            "Length: 5, dtype: object\n"
          ]
        }
      ]
    },
    {
      "cell_type": "markdown",
      "source": [
        "# **.to_numpy()**"
      ],
      "metadata": {
        "id": "HKpu5-9Rm_Jh"
      }
    },
    {
      "cell_type": "code",
      "source": [
        "import pandas as pd\n",
        "\n",
        "file = pd.read_csv(\"IRIS.csv\")     # read a csv file\n",
        "print(file.to_numpy())             # get each of every rows in numpy array format"
      ],
      "metadata": {
        "colab": {
          "base_uri": "https://localhost:8080/"
        },
        "id": "SB8CeqIwnTw_",
        "outputId": "8ecfb85d-8a46-453f-df12-3e9180597ccb"
      },
      "execution_count": 35,
      "outputs": [
        {
          "output_type": "stream",
          "name": "stdout",
          "text": [
            "[[5.1 3.5 1.4 0.2 'Iris-setosa']\n",
            " [4.9 3.0 1.4 0.2 'Iris-setosa']\n",
            " [4.7 3.2 1.3 0.2 'Iris-setosa']\n",
            " [4.6 3.1 1.5 0.2 'Iris-setosa']\n",
            " [5.0 3.6 1.4 0.2 'Iris-setosa']\n",
            " [5.4 3.9 1.7 0.4 'Iris-setosa']\n",
            " [4.6 3.4 1.4 0.3 'Iris-setosa']\n",
            " [5.0 3.4 1.5 0.2 'Iris-setosa']\n",
            " [4.4 2.9 1.4 0.2 'Iris-setosa']\n",
            " [4.9 3.1 1.5 0.1 'Iris-setosa']\n",
            " [5.4 3.7 1.5 0.2 'Iris-setosa']\n",
            " [4.8 3.4 1.6 0.2 'Iris-setosa']\n",
            " [4.8 3.0 1.4 0.1 'Iris-setosa']\n",
            " [4.3 3.0 1.1 0.1 'Iris-setosa']\n",
            " [5.8 4.0 1.2 0.2 'Iris-setosa']\n",
            " [5.7 4.4 1.5 0.4 'Iris-setosa']\n",
            " [5.4 3.9 1.3 0.4 'Iris-setosa']\n",
            " [5.1 3.5 1.4 0.3 'Iris-setosa']\n",
            " [5.7 3.8 1.7 0.3 'Iris-setosa']\n",
            " [5.1 3.8 1.5 0.3 'Iris-setosa']\n",
            " [5.4 3.4 1.7 0.2 'Iris-setosa']\n",
            " [5.1 3.7 1.5 0.4 'Iris-setosa']\n",
            " [4.6 3.6 1.0 0.2 'Iris-setosa']\n",
            " [5.1 3.3 1.7 0.5 'Iris-setosa']\n",
            " [4.8 3.4 1.9 0.2 'Iris-setosa']\n",
            " [5.0 3.0 1.6 0.2 'Iris-setosa']\n",
            " [5.0 3.4 1.6 0.4 'Iris-setosa']\n",
            " [5.2 3.5 1.5 0.2 'Iris-setosa']\n",
            " [5.2 3.4 1.4 0.2 'Iris-setosa']\n",
            " [4.7 3.2 1.6 0.2 'Iris-setosa']\n",
            " [4.8 3.1 1.6 0.2 'Iris-setosa']\n",
            " [5.4 3.4 1.5 0.4 'Iris-setosa']\n",
            " [5.2 4.1 1.5 0.1 'Iris-setosa']\n",
            " [5.5 4.2 1.4 0.2 'Iris-setosa']\n",
            " [4.9 3.1 1.5 0.1 'Iris-setosa']\n",
            " [5.0 3.2 1.2 0.2 'Iris-setosa']\n",
            " [5.5 3.5 1.3 0.2 'Iris-setosa']\n",
            " [4.9 3.1 1.5 0.1 'Iris-setosa']\n",
            " [4.4 3.0 1.3 0.2 'Iris-setosa']\n",
            " [5.1 3.4 1.5 0.2 'Iris-setosa']\n",
            " [5.0 3.5 1.3 0.3 'Iris-setosa']\n",
            " [4.5 2.3 1.3 0.3 'Iris-setosa']\n",
            " [4.4 3.2 1.3 0.2 'Iris-setosa']\n",
            " [5.0 3.5 1.6 0.6 'Iris-setosa']\n",
            " [5.1 3.8 1.9 0.4 'Iris-setosa']\n",
            " [4.8 3.0 1.4 0.3 'Iris-setosa']\n",
            " [5.1 3.8 1.6 0.2 'Iris-setosa']\n",
            " [4.6 3.2 1.4 0.2 'Iris-setosa']\n",
            " [5.3 3.7 1.5 0.2 'Iris-setosa']\n",
            " [5.0 3.3 1.4 0.2 'Iris-setosa']\n",
            " [7.0 3.2 4.7 1.4 'Iris-versicolor']\n",
            " [6.4 3.2 4.5 1.5 'Iris-versicolor']\n",
            " [6.9 3.1 4.9 1.5 'Iris-versicolor']\n",
            " [5.5 2.3 4.0 1.3 'Iris-versicolor']\n",
            " [6.5 2.8 4.6 1.5 'Iris-versicolor']\n",
            " [5.7 2.8 4.5 1.3 'Iris-versicolor']\n",
            " [6.3 3.3 4.7 1.6 'Iris-versicolor']\n",
            " [4.9 2.4 3.3 1.0 'Iris-versicolor']\n",
            " [6.6 2.9 4.6 1.3 'Iris-versicolor']\n",
            " [5.2 2.7 3.9 1.4 'Iris-versicolor']\n",
            " [5.0 2.0 3.5 1.0 'Iris-versicolor']\n",
            " [5.9 3.0 4.2 1.5 'Iris-versicolor']\n",
            " [6.0 2.2 4.0 1.0 'Iris-versicolor']\n",
            " [6.1 2.9 4.7 1.4 'Iris-versicolor']\n",
            " [5.6 2.9 3.6 1.3 'Iris-versicolor']\n",
            " [6.7 3.1 4.4 1.4 'Iris-versicolor']\n",
            " [5.6 3.0 4.5 1.5 'Iris-versicolor']\n",
            " [5.8 2.7 4.1 1.0 'Iris-versicolor']\n",
            " [6.2 2.2 4.5 1.5 'Iris-versicolor']\n",
            " [5.6 2.5 3.9 1.1 'Iris-versicolor']\n",
            " [5.9 3.2 4.8 1.8 'Iris-versicolor']\n",
            " [6.1 2.8 4.0 1.3 'Iris-versicolor']\n",
            " [6.3 2.5 4.9 1.5 'Iris-versicolor']\n",
            " [6.1 2.8 4.7 1.2 'Iris-versicolor']\n",
            " [6.4 2.9 4.3 1.3 'Iris-versicolor']\n",
            " [6.6 3.0 4.4 1.4 'Iris-versicolor']\n",
            " [6.8 2.8 4.8 1.4 'Iris-versicolor']\n",
            " [6.7 3.0 5.0 1.7 'Iris-versicolor']\n",
            " [6.0 2.9 4.5 1.5 'Iris-versicolor']\n",
            " [5.7 2.6 3.5 1.0 'Iris-versicolor']\n",
            " [5.5 2.4 3.8 1.1 'Iris-versicolor']\n",
            " [5.5 2.4 3.7 1.0 'Iris-versicolor']\n",
            " [5.8 2.7 3.9 1.2 'Iris-versicolor']\n",
            " [6.0 2.7 5.1 1.6 'Iris-versicolor']\n",
            " [5.4 3.0 4.5 1.5 'Iris-versicolor']\n",
            " [6.0 3.4 4.5 1.6 'Iris-versicolor']\n",
            " [6.7 3.1 4.7 1.5 'Iris-versicolor']\n",
            " [6.3 2.3 4.4 1.3 'Iris-versicolor']\n",
            " [5.6 3.0 4.1 1.3 'Iris-versicolor']\n",
            " [5.5 2.5 4.0 1.3 'Iris-versicolor']\n",
            " [5.5 2.6 4.4 1.2 'Iris-versicolor']\n",
            " [6.1 3.0 4.6 1.4 'Iris-versicolor']\n",
            " [5.8 2.6 4.0 1.2 'Iris-versicolor']\n",
            " [5.0 2.3 3.3 1.0 'Iris-versicolor']\n",
            " [5.6 2.7 4.2 1.3 'Iris-versicolor']\n",
            " [5.7 3.0 4.2 1.2 'Iris-versicolor']\n",
            " [5.7 2.9 4.2 1.3 'Iris-versicolor']\n",
            " [6.2 2.9 4.3 1.3 'Iris-versicolor']\n",
            " [5.1 2.5 3.0 1.1 'Iris-versicolor']\n",
            " [5.7 2.8 4.1 1.3 'Iris-versicolor']\n",
            " [6.3 3.3 6.0 2.5 'Iris-virginica']\n",
            " [5.8 2.7 5.1 1.9 'Iris-virginica']\n",
            " [7.1 3.0 5.9 2.1 'Iris-virginica']\n",
            " [6.3 2.9 5.6 1.8 'Iris-virginica']\n",
            " [6.5 3.0 5.8 2.2 'Iris-virginica']\n",
            " [7.6 3.0 6.6 2.1 'Iris-virginica']\n",
            " [4.9 2.5 4.5 1.7 'Iris-virginica']\n",
            " [7.3 2.9 6.3 1.8 'Iris-virginica']\n",
            " [6.7 2.5 5.8 1.8 'Iris-virginica']\n",
            " [7.2 3.6 6.1 2.5 'Iris-virginica']\n",
            " [6.5 3.2 5.1 2.0 'Iris-virginica']\n",
            " [6.4 2.7 5.3 1.9 'Iris-virginica']\n",
            " [6.8 3.0 5.5 2.1 'Iris-virginica']\n",
            " [5.7 2.5 5.0 2.0 'Iris-virginica']\n",
            " [5.8 2.8 5.1 2.4 'Iris-virginica']\n",
            " [6.4 3.2 5.3 2.3 'Iris-virginica']\n",
            " [6.5 3.0 5.5 1.8 'Iris-virginica']\n",
            " [7.7 3.8 6.7 2.2 'Iris-virginica']\n",
            " [7.7 2.6 6.9 2.3 'Iris-virginica']\n",
            " [6.0 2.2 5.0 1.5 'Iris-virginica']\n",
            " [6.9 3.2 5.7 2.3 'Iris-virginica']\n",
            " [5.6 2.8 4.9 2.0 'Iris-virginica']\n",
            " [7.7 2.8 6.7 2.0 'Iris-virginica']\n",
            " [6.3 2.7 4.9 1.8 'Iris-virginica']\n",
            " [6.7 3.3 5.7 2.1 'Iris-virginica']\n",
            " [7.2 3.2 6.0 1.8 'Iris-virginica']\n",
            " [6.2 2.8 4.8 1.8 'Iris-virginica']\n",
            " [6.1 3.0 4.9 1.8 'Iris-virginica']\n",
            " [6.4 2.8 5.6 2.1 'Iris-virginica']\n",
            " [7.2 3.0 5.8 1.6 'Iris-virginica']\n",
            " [7.4 2.8 6.1 1.9 'Iris-virginica']\n",
            " [7.9 3.8 6.4 2.0 'Iris-virginica']\n",
            " [6.4 2.8 5.6 2.2 'Iris-virginica']\n",
            " [6.3 2.8 5.1 1.5 'Iris-virginica']\n",
            " [6.1 2.6 5.6 1.4 'Iris-virginica']\n",
            " [7.7 3.0 6.1 2.3 'Iris-virginica']\n",
            " [6.3 3.4 5.6 2.4 'Iris-virginica']\n",
            " [6.4 3.1 5.5 1.8 'Iris-virginica']\n",
            " [6.0 3.0 4.8 1.8 'Iris-virginica']\n",
            " [6.9 3.1 5.4 2.1 'Iris-virginica']\n",
            " [6.7 3.1 5.6 2.4 'Iris-virginica']\n",
            " [6.9 3.1 5.1 2.3 'Iris-virginica']\n",
            " [5.8 2.7 5.1 1.9 'Iris-virginica']\n",
            " [6.8 3.2 5.9 2.3 'Iris-virginica']\n",
            " [6.7 3.3 5.7 2.5 'Iris-virginica']\n",
            " [6.7 3.0 5.2 2.3 'Iris-virginica']\n",
            " [6.3 2.5 5.0 1.9 'Iris-virginica']\n",
            " [6.5 3.0 5.2 2.0 'Iris-virginica']\n",
            " [6.2 3.4 5.4 2.3 'Iris-virginica']\n",
            " [5.9 3.0 5.1 1.8 'Iris-virginica']]\n"
          ]
        }
      ]
    },
    {
      "cell_type": "markdown",
      "source": [
        "# **np.asarray(file_name)**"
      ],
      "metadata": {
        "id": "Sx3NQhCDoAX0"
      }
    },
    {
      "cell_type": "code",
      "source": [
        "import pandas as pd\n",
        "import numpy as np\n",
        "\n",
        "file = pd.read_csv(\"IRIS.csv\")     # read a csv file\n",
        "file_1 = np.asarray(file)          # get each of every rows in numpy array format\n",
        "print(file_1)"
      ],
      "metadata": {
        "colab": {
          "base_uri": "https://localhost:8080/"
        },
        "id": "MIfZ3RJ3og7B",
        "outputId": "dac68faa-12bf-45d2-df7b-653d94717a96"
      },
      "execution_count": 36,
      "outputs": [
        {
          "output_type": "stream",
          "name": "stdout",
          "text": [
            "[[5.1 3.5 1.4 0.2 'Iris-setosa']\n",
            " [4.9 3.0 1.4 0.2 'Iris-setosa']\n",
            " [4.7 3.2 1.3 0.2 'Iris-setosa']\n",
            " [4.6 3.1 1.5 0.2 'Iris-setosa']\n",
            " [5.0 3.6 1.4 0.2 'Iris-setosa']\n",
            " [5.4 3.9 1.7 0.4 'Iris-setosa']\n",
            " [4.6 3.4 1.4 0.3 'Iris-setosa']\n",
            " [5.0 3.4 1.5 0.2 'Iris-setosa']\n",
            " [4.4 2.9 1.4 0.2 'Iris-setosa']\n",
            " [4.9 3.1 1.5 0.1 'Iris-setosa']\n",
            " [5.4 3.7 1.5 0.2 'Iris-setosa']\n",
            " [4.8 3.4 1.6 0.2 'Iris-setosa']\n",
            " [4.8 3.0 1.4 0.1 'Iris-setosa']\n",
            " [4.3 3.0 1.1 0.1 'Iris-setosa']\n",
            " [5.8 4.0 1.2 0.2 'Iris-setosa']\n",
            " [5.7 4.4 1.5 0.4 'Iris-setosa']\n",
            " [5.4 3.9 1.3 0.4 'Iris-setosa']\n",
            " [5.1 3.5 1.4 0.3 'Iris-setosa']\n",
            " [5.7 3.8 1.7 0.3 'Iris-setosa']\n",
            " [5.1 3.8 1.5 0.3 'Iris-setosa']\n",
            " [5.4 3.4 1.7 0.2 'Iris-setosa']\n",
            " [5.1 3.7 1.5 0.4 'Iris-setosa']\n",
            " [4.6 3.6 1.0 0.2 'Iris-setosa']\n",
            " [5.1 3.3 1.7 0.5 'Iris-setosa']\n",
            " [4.8 3.4 1.9 0.2 'Iris-setosa']\n",
            " [5.0 3.0 1.6 0.2 'Iris-setosa']\n",
            " [5.0 3.4 1.6 0.4 'Iris-setosa']\n",
            " [5.2 3.5 1.5 0.2 'Iris-setosa']\n",
            " [5.2 3.4 1.4 0.2 'Iris-setosa']\n",
            " [4.7 3.2 1.6 0.2 'Iris-setosa']\n",
            " [4.8 3.1 1.6 0.2 'Iris-setosa']\n",
            " [5.4 3.4 1.5 0.4 'Iris-setosa']\n",
            " [5.2 4.1 1.5 0.1 'Iris-setosa']\n",
            " [5.5 4.2 1.4 0.2 'Iris-setosa']\n",
            " [4.9 3.1 1.5 0.1 'Iris-setosa']\n",
            " [5.0 3.2 1.2 0.2 'Iris-setosa']\n",
            " [5.5 3.5 1.3 0.2 'Iris-setosa']\n",
            " [4.9 3.1 1.5 0.1 'Iris-setosa']\n",
            " [4.4 3.0 1.3 0.2 'Iris-setosa']\n",
            " [5.1 3.4 1.5 0.2 'Iris-setosa']\n",
            " [5.0 3.5 1.3 0.3 'Iris-setosa']\n",
            " [4.5 2.3 1.3 0.3 'Iris-setosa']\n",
            " [4.4 3.2 1.3 0.2 'Iris-setosa']\n",
            " [5.0 3.5 1.6 0.6 'Iris-setosa']\n",
            " [5.1 3.8 1.9 0.4 'Iris-setosa']\n",
            " [4.8 3.0 1.4 0.3 'Iris-setosa']\n",
            " [5.1 3.8 1.6 0.2 'Iris-setosa']\n",
            " [4.6 3.2 1.4 0.2 'Iris-setosa']\n",
            " [5.3 3.7 1.5 0.2 'Iris-setosa']\n",
            " [5.0 3.3 1.4 0.2 'Iris-setosa']\n",
            " [7.0 3.2 4.7 1.4 'Iris-versicolor']\n",
            " [6.4 3.2 4.5 1.5 'Iris-versicolor']\n",
            " [6.9 3.1 4.9 1.5 'Iris-versicolor']\n",
            " [5.5 2.3 4.0 1.3 'Iris-versicolor']\n",
            " [6.5 2.8 4.6 1.5 'Iris-versicolor']\n",
            " [5.7 2.8 4.5 1.3 'Iris-versicolor']\n",
            " [6.3 3.3 4.7 1.6 'Iris-versicolor']\n",
            " [4.9 2.4 3.3 1.0 'Iris-versicolor']\n",
            " [6.6 2.9 4.6 1.3 'Iris-versicolor']\n",
            " [5.2 2.7 3.9 1.4 'Iris-versicolor']\n",
            " [5.0 2.0 3.5 1.0 'Iris-versicolor']\n",
            " [5.9 3.0 4.2 1.5 'Iris-versicolor']\n",
            " [6.0 2.2 4.0 1.0 'Iris-versicolor']\n",
            " [6.1 2.9 4.7 1.4 'Iris-versicolor']\n",
            " [5.6 2.9 3.6 1.3 'Iris-versicolor']\n",
            " [6.7 3.1 4.4 1.4 'Iris-versicolor']\n",
            " [5.6 3.0 4.5 1.5 'Iris-versicolor']\n",
            " [5.8 2.7 4.1 1.0 'Iris-versicolor']\n",
            " [6.2 2.2 4.5 1.5 'Iris-versicolor']\n",
            " [5.6 2.5 3.9 1.1 'Iris-versicolor']\n",
            " [5.9 3.2 4.8 1.8 'Iris-versicolor']\n",
            " [6.1 2.8 4.0 1.3 'Iris-versicolor']\n",
            " [6.3 2.5 4.9 1.5 'Iris-versicolor']\n",
            " [6.1 2.8 4.7 1.2 'Iris-versicolor']\n",
            " [6.4 2.9 4.3 1.3 'Iris-versicolor']\n",
            " [6.6 3.0 4.4 1.4 'Iris-versicolor']\n",
            " [6.8 2.8 4.8 1.4 'Iris-versicolor']\n",
            " [6.7 3.0 5.0 1.7 'Iris-versicolor']\n",
            " [6.0 2.9 4.5 1.5 'Iris-versicolor']\n",
            " [5.7 2.6 3.5 1.0 'Iris-versicolor']\n",
            " [5.5 2.4 3.8 1.1 'Iris-versicolor']\n",
            " [5.5 2.4 3.7 1.0 'Iris-versicolor']\n",
            " [5.8 2.7 3.9 1.2 'Iris-versicolor']\n",
            " [6.0 2.7 5.1 1.6 'Iris-versicolor']\n",
            " [5.4 3.0 4.5 1.5 'Iris-versicolor']\n",
            " [6.0 3.4 4.5 1.6 'Iris-versicolor']\n",
            " [6.7 3.1 4.7 1.5 'Iris-versicolor']\n",
            " [6.3 2.3 4.4 1.3 'Iris-versicolor']\n",
            " [5.6 3.0 4.1 1.3 'Iris-versicolor']\n",
            " [5.5 2.5 4.0 1.3 'Iris-versicolor']\n",
            " [5.5 2.6 4.4 1.2 'Iris-versicolor']\n",
            " [6.1 3.0 4.6 1.4 'Iris-versicolor']\n",
            " [5.8 2.6 4.0 1.2 'Iris-versicolor']\n",
            " [5.0 2.3 3.3 1.0 'Iris-versicolor']\n",
            " [5.6 2.7 4.2 1.3 'Iris-versicolor']\n",
            " [5.7 3.0 4.2 1.2 'Iris-versicolor']\n",
            " [5.7 2.9 4.2 1.3 'Iris-versicolor']\n",
            " [6.2 2.9 4.3 1.3 'Iris-versicolor']\n",
            " [5.1 2.5 3.0 1.1 'Iris-versicolor']\n",
            " [5.7 2.8 4.1 1.3 'Iris-versicolor']\n",
            " [6.3 3.3 6.0 2.5 'Iris-virginica']\n",
            " [5.8 2.7 5.1 1.9 'Iris-virginica']\n",
            " [7.1 3.0 5.9 2.1 'Iris-virginica']\n",
            " [6.3 2.9 5.6 1.8 'Iris-virginica']\n",
            " [6.5 3.0 5.8 2.2 'Iris-virginica']\n",
            " [7.6 3.0 6.6 2.1 'Iris-virginica']\n",
            " [4.9 2.5 4.5 1.7 'Iris-virginica']\n",
            " [7.3 2.9 6.3 1.8 'Iris-virginica']\n",
            " [6.7 2.5 5.8 1.8 'Iris-virginica']\n",
            " [7.2 3.6 6.1 2.5 'Iris-virginica']\n",
            " [6.5 3.2 5.1 2.0 'Iris-virginica']\n",
            " [6.4 2.7 5.3 1.9 'Iris-virginica']\n",
            " [6.8 3.0 5.5 2.1 'Iris-virginica']\n",
            " [5.7 2.5 5.0 2.0 'Iris-virginica']\n",
            " [5.8 2.8 5.1 2.4 'Iris-virginica']\n",
            " [6.4 3.2 5.3 2.3 'Iris-virginica']\n",
            " [6.5 3.0 5.5 1.8 'Iris-virginica']\n",
            " [7.7 3.8 6.7 2.2 'Iris-virginica']\n",
            " [7.7 2.6 6.9 2.3 'Iris-virginica']\n",
            " [6.0 2.2 5.0 1.5 'Iris-virginica']\n",
            " [6.9 3.2 5.7 2.3 'Iris-virginica']\n",
            " [5.6 2.8 4.9 2.0 'Iris-virginica']\n",
            " [7.7 2.8 6.7 2.0 'Iris-virginica']\n",
            " [6.3 2.7 4.9 1.8 'Iris-virginica']\n",
            " [6.7 3.3 5.7 2.1 'Iris-virginica']\n",
            " [7.2 3.2 6.0 1.8 'Iris-virginica']\n",
            " [6.2 2.8 4.8 1.8 'Iris-virginica']\n",
            " [6.1 3.0 4.9 1.8 'Iris-virginica']\n",
            " [6.4 2.8 5.6 2.1 'Iris-virginica']\n",
            " [7.2 3.0 5.8 1.6 'Iris-virginica']\n",
            " [7.4 2.8 6.1 1.9 'Iris-virginica']\n",
            " [7.9 3.8 6.4 2.0 'Iris-virginica']\n",
            " [6.4 2.8 5.6 2.2 'Iris-virginica']\n",
            " [6.3 2.8 5.1 1.5 'Iris-virginica']\n",
            " [6.1 2.6 5.6 1.4 'Iris-virginica']\n",
            " [7.7 3.0 6.1 2.3 'Iris-virginica']\n",
            " [6.3 3.4 5.6 2.4 'Iris-virginica']\n",
            " [6.4 3.1 5.5 1.8 'Iris-virginica']\n",
            " [6.0 3.0 4.8 1.8 'Iris-virginica']\n",
            " [6.9 3.1 5.4 2.1 'Iris-virginica']\n",
            " [6.7 3.1 5.6 2.4 'Iris-virginica']\n",
            " [6.9 3.1 5.1 2.3 'Iris-virginica']\n",
            " [5.8 2.7 5.1 1.9 'Iris-virginica']\n",
            " [6.8 3.2 5.9 2.3 'Iris-virginica']\n",
            " [6.7 3.3 5.7 2.5 'Iris-virginica']\n",
            " [6.7 3.0 5.2 2.3 'Iris-virginica']\n",
            " [6.3 2.5 5.0 1.9 'Iris-virginica']\n",
            " [6.5 3.0 5.2 2.0 'Iris-virginica']\n",
            " [6.2 3.4 5.4 2.3 'Iris-virginica']\n",
            " [5.9 3.0 5.1 1.8 'Iris-virginica']]\n"
          ]
        }
      ]
    },
    {
      "cell_type": "markdown",
      "source": [
        "# **.sort_index(axis=0, ascending=False)**"
      ],
      "metadata": {
        "id": "R4iIzQ7GpDku"
      }
    },
    {
      "cell_type": "code",
      "source": [
        "import pandas as pd\n",
        "\n",
        "file = pd.read_csv(\"IRIS.csv\")     # read a csv file\n",
        "print(file.sort_index(axis=0, ascending=False))  #here sort_index target the index, axis=0 refers row, ascending=False refers decending"
      ],
      "metadata": {
        "colab": {
          "base_uri": "https://localhost:8080/"
        },
        "id": "GywVdYeOpeAq",
        "outputId": "ed09485b-3411-45d5-a17b-6f71a23cd3d0"
      },
      "execution_count": 39,
      "outputs": [
        {
          "output_type": "stream",
          "name": "stdout",
          "text": [
            "     sepal_length  sepal_width  petal_length  petal_width         species\n",
            "149           5.9          3.0           5.1          1.8  Iris-virginica\n",
            "148           6.2          3.4           5.4          2.3  Iris-virginica\n",
            "147           6.5          3.0           5.2          2.0  Iris-virginica\n",
            "146           6.3          2.5           5.0          1.9  Iris-virginica\n",
            "145           6.7          3.0           5.2          2.3  Iris-virginica\n",
            "..            ...          ...           ...          ...             ...\n",
            "4             5.0          3.6           1.4          0.2     Iris-setosa\n",
            "3             4.6          3.1           1.5          0.2     Iris-setosa\n",
            "2             4.7          3.2           1.3          0.2     Iris-setosa\n",
            "1             4.9          3.0           1.4          0.2     Iris-setosa\n",
            "0             5.1          3.5           1.4          0.2     Iris-setosa\n",
            "\n",
            "[150 rows x 5 columns]\n"
          ]
        }
      ]
    },
    {
      "cell_type": "markdown",
      "source": [
        "# **.sort_index(axis=1, ascending=False)**"
      ],
      "metadata": {
        "id": "1-cq8ii5q6ZI"
      }
    },
    {
      "cell_type": "code",
      "source": [
        "import pandas as pd\n",
        "\n",
        "file = pd.read_csv(\"IRIS.csv\")     # read a csv file\n",
        "print(file.sort_index(axis=1, ascending=False))  #here sort_index target the index, axis=1 refers columns, ascending=False refers decending"
      ],
      "metadata": {
        "colab": {
          "base_uri": "https://localhost:8080/"
        },
        "id": "mfd_23Fzq9TI",
        "outputId": "5a7bfa67-e91d-4eb2-e0e2-f946a2808968"
      },
      "execution_count": 41,
      "outputs": [
        {
          "output_type": "stream",
          "name": "stdout",
          "text": [
            "            species  sepal_width  sepal_length  petal_width  petal_length\n",
            "0       Iris-setosa          3.5           5.1          0.2           1.4\n",
            "1       Iris-setosa          3.0           4.9          0.2           1.4\n",
            "2       Iris-setosa          3.2           4.7          0.2           1.3\n",
            "3       Iris-setosa          3.1           4.6          0.2           1.5\n",
            "4       Iris-setosa          3.6           5.0          0.2           1.4\n",
            "..              ...          ...           ...          ...           ...\n",
            "145  Iris-virginica          3.0           6.7          2.3           5.2\n",
            "146  Iris-virginica          2.5           6.3          1.9           5.0\n",
            "147  Iris-virginica          3.0           6.5          2.0           5.2\n",
            "148  Iris-virginica          3.4           6.2          2.3           5.4\n",
            "149  Iris-virginica          3.0           5.9          1.8           5.1\n",
            "\n",
            "[150 rows x 5 columns]\n"
          ]
        }
      ]
    },
    {
      "cell_type": "markdown",
      "source": [
        "# **[\"column_name\"][row_number]=\"...\"**"
      ],
      "metadata": {
        "id": "awY_Zr3VrYty"
      }
    },
    {
      "cell_type": "code",
      "source": [
        "import pandas as pd\n",
        "\n",
        "file = pd.read_csv(\"IRIS.csv\")  # read a csv file\n",
        "file[\"sepal_width\"][2] = \"Abhay\"  # Modify the value at row 2, column \"sepal_width\"\n",
        "print(file)"
      ],
      "metadata": {
        "colab": {
          "base_uri": "https://localhost:8080/"
        },
        "id": "79JChI5IruMT",
        "outputId": "53c1601d-7f72-417e-dbc2-836a1ed5c9cf"
      },
      "execution_count": 46,
      "outputs": [
        {
          "output_type": "stream",
          "name": "stdout",
          "text": [
            "     sepal_length sepal_width  petal_length  petal_width         species\n",
            "0             5.1         3.5           1.4          0.2     Iris-setosa\n",
            "1             4.9         3.0           1.4          0.2     Iris-setosa\n",
            "2             4.7       Abhay           1.3          0.2     Iris-setosa\n",
            "3             4.6         3.1           1.5          0.2     Iris-setosa\n",
            "4             5.0         3.6           1.4          0.2     Iris-setosa\n",
            "..            ...         ...           ...          ...             ...\n",
            "145           6.7         3.0           5.2          2.3  Iris-virginica\n",
            "146           6.3         2.5           5.0          1.9  Iris-virginica\n",
            "147           6.5         3.0           5.2          2.0  Iris-virginica\n",
            "148           6.2         3.4           5.4          2.3  Iris-virginica\n",
            "149           5.9         3.0           5.1          1.8  Iris-virginica\n",
            "\n",
            "[150 rows x 5 columns]\n"
          ]
        },
        {
          "output_type": "stream",
          "name": "stderr",
          "text": [
            "<ipython-input-46-f371ddc0b634>:4: SettingWithCopyWarning: \n",
            "A value is trying to be set on a copy of a slice from a DataFrame\n",
            "\n",
            "See the caveats in the documentation: https://pandas.pydata.org/pandas-docs/stable/user_guide/indexing.html#returning-a-view-versus-a-copy\n",
            "  file[\"sepal_width\"][2] = \"Abhay\"  # Modify the value at row 2, column \"sepal_width\"\n"
          ]
        }
      ]
    },
    {
      "cell_type": "markdown",
      "source": [
        "# **.loc[row_number, \"column_name\"]=\"...\"**"
      ],
      "metadata": {
        "id": "154udr6MthTn"
      }
    },
    {
      "cell_type": "code",
      "source": [
        "import pandas as pd\n",
        "\n",
        "file = pd.read_csv(\"IRIS.csv\")  # read a csv file\n",
        "file.loc[2, \"sepal_width\"] = \"Abhay\"  # Modify the value at row 2, column \"sepal_width\"\n",
        "print(file)"
      ],
      "metadata": {
        "colab": {
          "base_uri": "https://localhost:8080/"
        },
        "id": "Z2w5KsnzuAuS",
        "outputId": "c7c4b6c1-7bca-40f0-a7cd-f3519935a736"
      },
      "execution_count": 48,
      "outputs": [
        {
          "output_type": "stream",
          "name": "stdout",
          "text": [
            "     sepal_length sepal_width  petal_length  petal_width         species\n",
            "0             5.1         3.5           1.4          0.2     Iris-setosa\n",
            "1             4.9         3.0           1.4          0.2     Iris-setosa\n",
            "2             4.7       Abhay           1.3          0.2     Iris-setosa\n",
            "3             4.6         3.1           1.5          0.2     Iris-setosa\n",
            "4             5.0         3.6           1.4          0.2     Iris-setosa\n",
            "..            ...         ...           ...          ...             ...\n",
            "145           6.7         3.0           5.2          2.3  Iris-virginica\n",
            "146           6.3         2.5           5.0          1.9  Iris-virginica\n",
            "147           6.5         3.0           5.2          2.0  Iris-virginica\n",
            "148           6.2         3.4           5.4          2.3  Iris-virginica\n",
            "149           5.9         3.0           5.1          1.8  Iris-virginica\n",
            "\n",
            "[150 rows x 5 columns]\n"
          ]
        }
      ]
    },
    {
      "cell_type": "markdown",
      "source": [
        "# **.loc[[row_number],[\"column_name\"]]**"
      ],
      "metadata": {
        "id": "qopaz-15uZS2"
      }
    },
    {
      "cell_type": "code",
      "source": [
        "import pandas as pd\n",
        "\n",
        "file = pd.read_csv(\"IRIS.csv\")  # read a csv file\n",
        "file_1 = file.loc[[2,3,4,5],[\"sepal_length\",\"petal_width\"]]  #getting data from specific rows and columns\n",
        "print(file_1)"
      ],
      "metadata": {
        "colab": {
          "base_uri": "https://localhost:8080/"
        },
        "id": "HcIizL3Ru1Uu",
        "outputId": "b7283485-b8c1-45ce-f9e8-4be5a2982321"
      },
      "execution_count": 54,
      "outputs": [
        {
          "output_type": "stream",
          "name": "stdout",
          "text": [
            "   sepal_length  petal_width\n",
            "2           4.7          0.2\n",
            "3           4.6          0.2\n",
            "4           5.0          0.2\n",
            "5           5.4          0.4\n"
          ]
        }
      ]
    },
    {
      "cell_type": "markdown",
      "source": [
        "# **.loc[:,[\"column_name\"]]**\n",
        "#**.loc[[row_number],:]**"
      ],
      "metadata": {
        "id": "egF2CvfU117A"
      }
    },
    {
      "cell_type": "code",
      "source": [
        "import pandas as pd\n",
        "\n",
        "file = pd.read_csv(\"IRIS.csv\")  # read a csv file\n",
        "file_1 = file.loc[:,[\"sepal_length\",\"petal_width\"]]  #getting data from all rows and in specific columns\n",
        "print(file_1)\n",
        "print(\"-------------------------------------------------------------------------\")\n",
        "file_2 = file.loc[[2,3,4,5],:]  #getting data from specific rows and in all columns\n",
        "print(file_2)"
      ],
      "metadata": {
        "colab": {
          "base_uri": "https://localhost:8080/"
        },
        "id": "FY0AVZHt19Xa",
        "outputId": "1830ce58-fce9-4cc9-fc7c-2aa937a6efb7"
      },
      "execution_count": 57,
      "outputs": [
        {
          "output_type": "stream",
          "name": "stdout",
          "text": [
            "     sepal_length  petal_width\n",
            "0             5.1          0.2\n",
            "1             4.9          0.2\n",
            "2             4.7          0.2\n",
            "3             4.6          0.2\n",
            "4             5.0          0.2\n",
            "..            ...          ...\n",
            "145           6.7          2.3\n",
            "146           6.3          1.9\n",
            "147           6.5          2.0\n",
            "148           6.2          2.3\n",
            "149           5.9          1.8\n",
            "\n",
            "[150 rows x 2 columns]\n",
            "-------------------------------------------------------------------------\n",
            "   sepal_length  sepal_width  petal_length  petal_width      species\n",
            "2           4.7          3.2           1.3          0.2  Iris-setosa\n",
            "3           4.6          3.1           1.5          0.2  Iris-setosa\n",
            "4           5.0          3.6           1.4          0.2  Iris-setosa\n",
            "5           5.4          3.9           1.7          0.4  Iris-setosa\n"
          ]
        }
      ]
    },
    {
      "cell_type": "markdown",
      "source": [
        "# **.iloc[index_number,column_number]**"
      ],
      "metadata": {
        "id": "Y-VdvpuO3Smp"
      }
    },
    {
      "cell_type": "code",
      "source": [
        "import pandas as pd\n",
        "\n",
        "file = pd.read_csv(\"IRIS.csv\")  # read a csv file\n",
        "file_1 = file.iloc[2,4]  #getting data from index 2(index start from 0 and column name is not count so actual index is 4) and column 4 means species(column number start from 0)\n",
        "print(file_1)"
      ],
      "metadata": {
        "colab": {
          "base_uri": "https://localhost:8080/"
        },
        "id": "_4_1mUCj3d8d",
        "outputId": "b3c239ef-9a73-4c62-add0-14936c981442"
      },
      "execution_count": 68,
      "outputs": [
        {
          "output_type": "stream",
          "name": "stdout",
          "text": [
            "Iris-setosa\n"
          ]
        }
      ]
    },
    {
      "cell_type": "markdown",
      "source": [
        "# **.drop(\"column_name\",axis=1)**"
      ],
      "metadata": {
        "id": "DXVPUYC06wYL"
      }
    },
    {
      "cell_type": "code",
      "source": [
        "import pandas as pd\n",
        "\n",
        "file = pd.read_csv(\"IRIS.csv\")  # read a csv file\n",
        "file_1 = file.drop(\"sepal_width\",axis=1)  #remove sepal_width column from the dataset.  Here axis=1 refers the column\n",
        "print(file_1)"
      ],
      "metadata": {
        "colab": {
          "base_uri": "https://localhost:8080/"
        },
        "id": "0BTNPK1M7DRK",
        "outputId": "82b0536b-7c7e-4dbc-9d1b-06e6df9ebece"
      },
      "execution_count": 72,
      "outputs": [
        {
          "output_type": "stream",
          "name": "stdout",
          "text": [
            "     sepal_length  petal_length  petal_width         species\n",
            "0             5.1           1.4          0.2     Iris-setosa\n",
            "1             4.9           1.4          0.2     Iris-setosa\n",
            "2             4.7           1.3          0.2     Iris-setosa\n",
            "3             4.6           1.5          0.2     Iris-setosa\n",
            "4             5.0           1.4          0.2     Iris-setosa\n",
            "..            ...           ...          ...             ...\n",
            "145           6.7           5.2          2.3  Iris-virginica\n",
            "146           6.3           5.0          1.9  Iris-virginica\n",
            "147           6.5           5.2          2.0  Iris-virginica\n",
            "148           6.2           5.4          2.3  Iris-virginica\n",
            "149           5.9           5.1          1.8  Iris-virginica\n",
            "\n",
            "[150 rows x 4 columns]\n"
          ]
        }
      ]
    },
    {
      "cell_type": "markdown",
      "source": [
        "# **.drop(row_number,axis=0)**"
      ],
      "metadata": {
        "id": "QXB_syj17wrq"
      }
    },
    {
      "cell_type": "code",
      "source": [
        "import pandas as pd\n",
        "\n",
        "file = pd.read_csv(\"IRIS.csv\")  # read a csv file\n",
        "file_1 = file.drop(1,axis=0)  #remove row 1 from this dataset.  Here axis=0 refers row\n",
        "print(file_1)"
      ],
      "metadata": {
        "colab": {
          "base_uri": "https://localhost:8080/"
        },
        "id": "glbA00dd77jy",
        "outputId": "9170fd94-7047-4712-e340-dbaed5f0973e"
      },
      "execution_count": 74,
      "outputs": [
        {
          "output_type": "stream",
          "name": "stdout",
          "text": [
            "     sepal_length  sepal_width  petal_length  petal_width         species\n",
            "0             5.1          3.5           1.4          0.2     Iris-setosa\n",
            "2             4.7          3.2           1.3          0.2     Iris-setosa\n",
            "3             4.6          3.1           1.5          0.2     Iris-setosa\n",
            "4             5.0          3.6           1.4          0.2     Iris-setosa\n",
            "5             5.4          3.9           1.7          0.4     Iris-setosa\n",
            "..            ...          ...           ...          ...             ...\n",
            "145           6.7          3.0           5.2          2.3  Iris-virginica\n",
            "146           6.3          2.5           5.0          1.9  Iris-virginica\n",
            "147           6.5          3.0           5.2          2.0  Iris-virginica\n",
            "148           6.2          3.4           5.4          2.3  Iris-virginica\n",
            "149           5.9          3.0           5.1          1.8  Iris-virginica\n",
            "\n",
            "[149 rows x 5 columns]\n"
          ]
        }
      ]
    },
    {
      "cell_type": "markdown",
      "source": [
        "# **[column_name].replace(np.nan, inplace=True)**"
      ],
      "metadata": {
        "id": "1pm10sVJ85uX"
      }
    },
    {
      "cell_type": "code",
      "source": [
        "import pandas as pd\n",
        "import numpy as np\n",
        "\n",
        "file = pd.read_csv(\"tested.csv\")    #read the file.   I change the file because it have some null values.\n",
        "file[\"Cabin\"].replace(np.nan, inplace=True)   #replace the null values to NAN on Cabin column.   # Here np.nan assign NAN in empty set\n",
        "print(file)\n"
      ],
      "metadata": {
        "colab": {
          "base_uri": "https://localhost:8080/"
        },
        "id": "z3EtfUWc-F27",
        "outputId": "40cc8133-8f08-4718-c2f1-c8ac06b4f456"
      },
      "execution_count": 87,
      "outputs": [
        {
          "output_type": "stream",
          "name": "stdout",
          "text": [
            "     PassengerId   Age  SibSp  Parch Cabin Embarked\n",
            "0            892  34.5      0      0   NaN        Q\n",
            "1            893  47.0      1      0   NaN        S\n",
            "2            894  62.0      0      0   NaN        Q\n",
            "3            895  27.0      0      0   NaN        S\n",
            "4            896  22.0      1      1   NaN        S\n",
            "..           ...   ...    ...    ...   ...      ...\n",
            "413         1305   NaN      0      0   C78        S\n",
            "414         1306  39.0      0      0  C105        C\n",
            "415         1307  38.5      0      0  C105        S\n",
            "416         1308   NaN      0      0  C105        S\n",
            "417         1309   NaN      1      1  C105        C\n",
            "\n",
            "[418 rows x 6 columns]\n"
          ]
        }
      ]
    },
    {
      "cell_type": "markdown",
      "source": [
        "# **.dropna(axis=0, inplace=True)**"
      ],
      "metadata": {
        "id": "623CQhrVBObz"
      }
    },
    {
      "cell_type": "code",
      "source": [
        "import pandas as pd\n",
        "\n",
        "file = pd.read_csv(\"tested.csv\")    #read the file.   I change the file because it have some null values.\n",
        "file.dropna(axis=0, inplace=True)     # remove the rows which have null values.   #Here axis=0 refers rows.\n",
        "print(file)"
      ],
      "metadata": {
        "colab": {
          "base_uri": "https://localhost:8080/"
        },
        "id": "OygTD1q-BU39",
        "outputId": "0e939e46-c51a-4367-9744-55226d2adf4d"
      },
      "execution_count": 102,
      "outputs": [
        {
          "output_type": "stream",
          "name": "stdout",
          "text": [
            "     PassengerId   Age  SibSp  Parch            Cabin Embarked\n",
            "12           904  23.0      1      0              B45        S\n",
            "14           906  47.0      1      0              E31        S\n",
            "24           916  48.0      1      3  B57 B59 B63 B66        C\n",
            "26           918  22.0      0      1              B36        C\n",
            "28           920  41.0      0      0              A21        S\n",
            "..           ...   ...    ...    ...              ...      ...\n",
            "404         1296  43.0      1      0              D40        C\n",
            "405         1297  20.0      0      0              D38        C\n",
            "407         1299  50.0      1      1              C80        C\n",
            "411         1303  37.0      1      0              C78        Q\n",
            "414         1306  39.0      0      0             C105        C\n",
            "\n",
            "[87 rows x 6 columns]\n"
          ]
        }
      ]
    },
    {
      "cell_type": "markdown",
      "source": [
        "# **.dropna(axis=1, inplace=True)**"
      ],
      "metadata": {
        "id": "4yufe3XLDbiX"
      }
    },
    {
      "cell_type": "code",
      "source": [
        "import pandas as pd\n",
        "\n",
        "file = pd.read_csv(\"tested.csv\")    # read the file\n",
        "file.dropna(axis=1, inplace=True)  # drop columns with missing values in place.   #Here axis=1 refers column.\n",
        "print(file)"
      ],
      "metadata": {
        "colab": {
          "base_uri": "https://localhost:8080/"
        },
        "id": "GBJuIUwpDkfS",
        "outputId": "34d7a462-135a-402f-88dc-4255a6dc5b28"
      },
      "execution_count": 100,
      "outputs": [
        {
          "output_type": "stream",
          "name": "stdout",
          "text": [
            "     PassengerId  SibSp  Parch Embarked\n",
            "0            892      0      0        Q\n",
            "1            893      1      0        S\n",
            "2            894      0      0        Q\n",
            "3            895      0      0        S\n",
            "4            896      1      1        S\n",
            "..           ...    ...    ...      ...\n",
            "413         1305      0      0        S\n",
            "414         1306      0      0        C\n",
            "415         1307      0      0        S\n",
            "416         1308      0      0        S\n",
            "417         1309      1      1        C\n",
            "\n",
            "[418 rows x 4 columns]\n"
          ]
        }
      ]
    },
    {
      "cell_type": "markdown",
      "source": [
        "# **.fillna(\"...\", inplace=True)**"
      ],
      "metadata": {
        "id": "5XW-db4EGDZA"
      }
    },
    {
      "cell_type": "code",
      "source": [
        "import pandas as pd\n",
        "\n",
        "file = pd.read_csv(\"tested_1.csv\")    # read the file\n",
        "file.fillna(\"Abhay\", inplace=True)    # fill the null values with Abhay\n",
        "print(file)"
      ],
      "metadata": {
        "colab": {
          "base_uri": "https://localhost:8080/"
        },
        "id": "v0a0jEFGGPa5",
        "outputId": "7d77499c-1366-486c-d83d-1b3ea787b73c"
      },
      "execution_count": 108,
      "outputs": [
        {
          "output_type": "stream",
          "name": "stdout",
          "text": [
            "     PassengerId    Age  SibSp  Parch  Cabin Embarked\n",
            "0            892   34.5      0      0  Abhay        Q\n",
            "1            893   47.0      1      0  Abhay        S\n",
            "2            894   62.0      0      0  Abhay        Q\n",
            "3            895   27.0      0      0  Abhay        S\n",
            "4            896   22.0      1      1  Abhay        S\n",
            "..           ...    ...    ...    ...    ...      ...\n",
            "413         1305  Abhay      0      0  Abhay        S\n",
            "414         1306   39.0      0      0   C105        C\n",
            "415         1307   38.5      0      0  Abhay        S\n",
            "416         1308  Abhay      0      0  Abhay        S\n",
            "417         1309  Abhay      1      1  Abhay        C\n",
            "\n",
            "[418 rows x 6 columns]\n"
          ]
        }
      ]
    },
    {
      "cell_type": "markdown",
      "source": [
        "# **.fillna({\"column_name\":\"...\",\"column_name\":\"...\"}, inplace=True)**"
      ],
      "metadata": {
        "id": "GDdKUqbbHnw9"
      }
    },
    {
      "cell_type": "code",
      "source": [
        "import pandas as pd\n",
        "\n",
        "file = pd.read_csv(\"tested_1.csv\")    # read the file\n",
        "file.fillna({\"Age\":\"age null\",\"Cabin\":\"cabin null\"}, inplace=True)  # specifically fill the null values as per different columns\n",
        "print(file)"
      ],
      "metadata": {
        "colab": {
          "base_uri": "https://localhost:8080/"
        },
        "id": "ObNKvBGeH3oW",
        "outputId": "06f9bb74-2a7c-4cd1-b087-2b02dbb4377f"
      },
      "execution_count": 111,
      "outputs": [
        {
          "output_type": "stream",
          "name": "stdout",
          "text": [
            "     PassengerId       Age  SibSp  Parch       Cabin Embarked\n",
            "0            892      34.5      0      0  cabin null        Q\n",
            "1            893      47.0      1      0  cabin null        S\n",
            "2            894      62.0      0      0  cabin null        Q\n",
            "3            895      27.0      0      0  cabin null        S\n",
            "4            896      22.0      1      1  cabin null        S\n",
            "..           ...       ...    ...    ...         ...      ...\n",
            "413         1305  age null      0      0  cabin null        S\n",
            "414         1306      39.0      0      0        C105        C\n",
            "415         1307      38.5      0      0  cabin null        S\n",
            "416         1308  age null      0      0  cabin null        S\n",
            "417         1309  age null      1      1  cabin null        C\n",
            "\n",
            "[418 rows x 6 columns]\n"
          ]
        }
      ]
    },
    {
      "cell_type": "markdown",
      "source": [
        "# **.fillna(method=\"ffill\", inplace=True)**"
      ],
      "metadata": {
        "id": "cZBQdO8kJLXh"
      }
    },
    {
      "cell_type": "code",
      "source": [
        "import pandas as pd\n",
        "\n",
        "file = pd.read_csv(\"tested_1.csv\")    # read the file\n",
        "file.fillna(method=\"ffill\", inplace=True)  # fill the null values with it's forward vaue\n",
        "print(file)\n",
        "# Here in Cabin first values are null that's why first values are fill with NAN but later it get a value in forward then it fill with that."
      ],
      "metadata": {
        "colab": {
          "base_uri": "https://localhost:8080/"
        },
        "id": "Y5KdLtocJUUN",
        "outputId": "b019db00-c4ba-422a-9d1d-ae0ed0e0f21c"
      },
      "execution_count": 113,
      "outputs": [
        {
          "output_type": "stream",
          "name": "stdout",
          "text": [
            "     PassengerId   Age  SibSp  Parch Cabin Embarked\n",
            "0            892  34.5      0      0   NaN        Q\n",
            "1            893  47.0      1      0   NaN        S\n",
            "2            894  62.0      0      0   NaN        Q\n",
            "3            895  27.0      0      0   NaN        S\n",
            "4            896  22.0      1      1   NaN        S\n",
            "..           ...   ...    ...    ...   ...      ...\n",
            "413         1305  28.0      0      0   C78        S\n",
            "414         1306  39.0      0      0  C105        C\n",
            "415         1307  38.5      0      0  C105        S\n",
            "416         1308  38.5      0      0  C105        S\n",
            "417         1309  38.5      1      1  C105        C\n",
            "\n",
            "[418 rows x 6 columns]\n"
          ]
        }
      ]
    },
    {
      "cell_type": "markdown",
      "source": [
        "# **.fillna(method=\"bfill\", inplace=True)**"
      ],
      "metadata": {
        "id": "QzFDeIhyKLfl"
      }
    },
    {
      "cell_type": "code",
      "source": [
        "import pandas as pd\n",
        "\n",
        "file = pd.read_csv(\"tested_1.csv\")    # read the file\n",
        "file.fillna(method=\"bfill\", inplace=True)  # fill the null values with it's backward vaue\n",
        "print(file)\n",
        "# Here in Cabin and Age last values are null that's why last values are fill with NAN."
      ],
      "metadata": {
        "colab": {
          "base_uri": "https://localhost:8080/"
        },
        "id": "VarhwpWNKOyR",
        "outputId": "3a6d1134-1ac4-40a3-aff8-f4d075c814a5"
      },
      "execution_count": 115,
      "outputs": [
        {
          "output_type": "stream",
          "name": "stdout",
          "text": [
            "     PassengerId   Age  SibSp  Parch Cabin Embarked\n",
            "0            892  34.5      0      0   B45        Q\n",
            "1            893  47.0      1      0   B45        S\n",
            "2            894  62.0      0      0   B45        Q\n",
            "3            895  27.0      0      0   B45        S\n",
            "4            896  22.0      1      1   B45        S\n",
            "..           ...   ...    ...    ...   ...      ...\n",
            "413         1305  39.0      0      0  C105        S\n",
            "414         1306  39.0      0      0  C105        C\n",
            "415         1307  38.5      0      0   NaN        S\n",
            "416         1308   NaN      0      0   NaN        S\n",
            "417         1309   NaN      1      1   NaN        C\n",
            "\n",
            "[418 rows x 6 columns]\n"
          ]
        }
      ]
    },
    {
      "cell_type": "markdown",
      "source": [
        "# **.replace(to_replace=\"...\", value=\"...\", inplace=True)**"
      ],
      "metadata": {
        "id": "bp5evTvUMewv"
      }
    },
    {
      "cell_type": "code",
      "source": [
        "import pandas as pd\n",
        "\n",
        "file = pd.read_csv(\"IRIS.csv\")    # read the file\n",
        "file.replace(to_replace=1.4, value=100, inplace=True)    # replace 1.4 to 100\n",
        "print(file)"
      ],
      "metadata": {
        "colab": {
          "base_uri": "https://localhost:8080/"
        },
        "id": "wx2xsi_vOFiw",
        "outputId": "562adb23-9422-4967-9763-923287723095"
      },
      "execution_count": 122,
      "outputs": [
        {
          "output_type": "stream",
          "name": "stdout",
          "text": [
            "     sepal_length  sepal_width  petal_length  petal_width         species\n",
            "0             5.1          3.5         100.0          0.2     Iris-setosa\n",
            "1             4.9          3.0         100.0          0.2     Iris-setosa\n",
            "2             4.7          3.2           1.3          0.2     Iris-setosa\n",
            "3             4.6          3.1           1.5          0.2     Iris-setosa\n",
            "4             5.0          3.6         100.0          0.2     Iris-setosa\n",
            "..            ...          ...           ...          ...             ...\n",
            "145           6.7          3.0           5.2          2.3  Iris-virginica\n",
            "146           6.3          2.5           5.0          1.9  Iris-virginica\n",
            "147           6.5          3.0           5.2          2.0  Iris-virginica\n",
            "148           6.2          3.4           5.4          2.3  Iris-virginica\n",
            "149           5.9          3.0           5.1          1.8  Iris-virginica\n",
            "\n",
            "[150 rows x 5 columns]\n"
          ]
        }
      ]
    },
    {
      "cell_type": "markdown",
      "source": [
        "# **.replace(\"...\", method=\"ffill\", inplace=True)**"
      ],
      "metadata": {
        "id": "eOcmocluQ4Mt"
      }
    },
    {
      "cell_type": "code",
      "source": [
        "import pandas as pd\n",
        "\n",
        "file = pd.read_csv(\"IRIS.csv\")    # read the file\n",
        "file.replace(1.4, method=\"ffill\", inplace=True)    # replace 1.4 to it's forward value\n",
        "print(file)"
      ],
      "metadata": {
        "colab": {
          "base_uri": "https://localhost:8080/"
        },
        "id": "Ue9dGOlPREGC",
        "outputId": "a5c163b1-df8c-4256-faf8-dcd666da7055"
      },
      "execution_count": 123,
      "outputs": [
        {
          "output_type": "stream",
          "name": "stdout",
          "text": [
            "     sepal_length  sepal_width  petal_length  petal_width         species\n",
            "0             5.1          3.5           1.4          0.2     Iris-setosa\n",
            "1             4.9          3.0           1.4          0.2     Iris-setosa\n",
            "2             4.7          3.2           1.3          0.2     Iris-setosa\n",
            "3             4.6          3.1           1.5          0.2     Iris-setosa\n",
            "4             5.0          3.6           1.5          0.2     Iris-setosa\n",
            "..            ...          ...           ...          ...             ...\n",
            "145           6.7          3.0           5.2          2.3  Iris-virginica\n",
            "146           6.3          2.5           5.0          1.9  Iris-virginica\n",
            "147           6.5          3.0           5.2          2.0  Iris-virginica\n",
            "148           6.2          3.4           5.4          2.3  Iris-virginica\n",
            "149           5.9          3.0           5.1          1.8  Iris-virginica\n",
            "\n",
            "[150 rows x 5 columns]\n"
          ]
        }
      ]
    },
    {
      "cell_type": "markdown",
      "source": [
        "# **.interpolate()**"
      ],
      "metadata": {
        "id": "_V9-IagWSa-X"
      }
    },
    {
      "cell_type": "code",
      "source": [
        "import pandas as pd\n",
        "\n",
        "file = pd.read_csv(\"tested_1.csv\")    # read the file\n",
        "file.interpolate(inplace=True)    # observe the algorithm of data and fill empty values own (just only numericals)\n",
        "print(file)"
      ],
      "metadata": {
        "colab": {
          "base_uri": "https://localhost:8080/"
        },
        "id": "ZSo_U0PzSfd5",
        "outputId": "21e179fb-93ff-4f0a-cd6f-bf674f5e03a0"
      },
      "execution_count": 126,
      "outputs": [
        {
          "output_type": "stream",
          "name": "stdout",
          "text": [
            "     PassengerId   Age  SibSp  Parch Cabin Embarked\n",
            "0            892  34.5      0      0   NaN        Q\n",
            "1            893  47.0      1      0   NaN        S\n",
            "2            894  62.0      0      0   NaN        Q\n",
            "3            895  27.0      0      0   NaN        S\n",
            "4            896  22.0      1      1   NaN        S\n",
            "..           ...   ...    ...    ...   ...      ...\n",
            "413         1305  33.5      0      0   NaN        S\n",
            "414         1306  39.0      0      0  C105        C\n",
            "415         1307  38.5      0      0   NaN        S\n",
            "416         1308  38.5      0      0   NaN        S\n",
            "417         1309  38.5      1      1   NaN        C\n",
            "\n",
            "[418 rows x 6 columns]\n"
          ]
        }
      ]
    }
  ]
}